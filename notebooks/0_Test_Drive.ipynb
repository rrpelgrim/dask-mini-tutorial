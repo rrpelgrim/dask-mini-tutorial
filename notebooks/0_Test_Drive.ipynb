{
 "cells": [
  {
   "cell_type": "markdown",
   "id": "8810e16e-2d5d-4fd2-9720-818495543c67",
   "metadata": {},
   "source": [
    "<img src=\"https://raw.githubusercontent.com/dask/dask/main/docs/source/images/dask_horizontal.svg\"\n",
    "     width=\"60%\"\n",
    "     alt=\"Dask logo\\\" />\n",
    "\n",
    "# Time for a Test Drive!\n",
    "\n",
    "You've spent some time walking around the Dascar lot, hearing about all the awesome features and specs...\n",
    "\n",
    "That's enough talk. Let's jump into this racecar and see what it can do...\n",
    "\n",
    "We'll test drive:\n",
    "\n",
    "1. Dask DataFrames for faster & scalable pandas\n",
    "2. Dask Arrays for faster & scalable NumPy\n",
    "3. Dask-ML for faster & scalable scikit-learn\n",
    "4. Coiled for cluster spin-up\n",
    "\n",
    "![](images/race-car.png \"Title\")"
   ]
  },
  {
   "cell_type": "markdown",
   "id": "faf9b4d5-b227-43d9-ba2c-6e140d0e5a6b",
   "metadata": {},
   "source": [
    "## Dask DataFrames\n",
    "\n",
    "The pandas car...with the Dask engine!"
   ]
  },
  {
   "cell_type": "code",
   "execution_count": null,
   "id": "6faf8453-0a2f-4e16-9fa5-fc6114f62e11",
   "metadata": {},
   "outputs": [],
   "source": [
    "import dask.dataframe as dd"
   ]
  },
  {
   "cell_type": "code",
   "execution_count": null,
   "id": "26fbc24d-e552-4036-ac29-04daae66dafb",
   "metadata": {},
   "outputs": [],
   "source": [
    "%run ../prep_data.py -d flights"
   ]
  },
  {
   "cell_type": "code",
   "execution_count": null,
   "id": "0cee0cfc-78fb-4ff9-ab27-4c3cb29a4bb8",
   "metadata": {},
   "outputs": [],
   "source": [
    "import os\n",
    "\n",
    "files = os.path.join('../data', 'nycflights', '*.csv')\n",
    "files"
   ]
  },
  {
   "cell_type": "code",
   "execution_count": null,
   "id": "27375143-1bed-4e85-94e9-6d8e9dd92d1f",
   "metadata": {},
   "outputs": [],
   "source": [
    "df = dd.read_csv(files,\n",
    "                 parse_dates={'Date': [0, 1, 2]},\n",
    "                 dtype={\"TailNum\": str,\n",
    "                        \"CRSElapsedTime\": float,\n",
    "                        \"Cancelled\": bool})"
   ]
  },
  {
   "cell_type": "code",
   "execution_count": null,
   "id": "20dc3d13-2f64-4cc3-9eac-a6d2fae8a7ca",
   "metadata": {},
   "outputs": [],
   "source": [
    "df.head()"
   ]
  },
  {
   "cell_type": "code",
   "execution_count": null,
   "id": "6919db6e-0037-4af7-b6c3-525f4ea7597c",
   "metadata": {},
   "outputs": [],
   "source": [
    "%%time\n",
    "df.groupby(\"Origin\")[\"DepDelay\"].mean().compute()"
   ]
  },
  {
   "cell_type": "markdown",
   "id": "7426f747-8b5c-4ee4-87f1-666444d4bda9",
   "metadata": {},
   "source": [
    "### A slight difference with pandas\n",
    "Notice the `.compute()` call: this is necessary because Dask operates using something called **lazy evaluation**.\n",
    "\n",
    "If you haven't heard about lazy evaluation before, check out [the Beginner's Guide to Distributed Computing](https://towardsdatascience.com/the-beginners-guide-to-distributed-computing-6d6833796318)."
   ]
  },
  {
   "cell_type": "code",
   "execution_count": null,
   "id": "4c2dab14-9799-40bf-a018-6d97da22548e",
   "metadata": {},
   "outputs": [],
   "source": [
    "df"
   ]
  },
  {
   "cell_type": "code",
   "execution_count": null,
   "id": "f6f20861-cdd5-47b9-adee-ee9926362c00",
   "metadata": {},
   "outputs": [],
   "source": []
  },
  {
   "cell_type": "code",
   "execution_count": null,
   "id": "a8394244-eecd-46fa-a23c-3abd26999881",
   "metadata": {},
   "outputs": [],
   "source": []
  },
  {
   "cell_type": "code",
   "execution_count": null,
   "id": "f7284843-211b-4ed1-bfb0-51cf49366199",
   "metadata": {},
   "outputs": [],
   "source": []
  },
  {
   "cell_type": "markdown",
   "id": "60b62871-a3fa-4491-975f-2177b07204a7",
   "metadata": {
    "tags": []
   },
   "source": [
    "## Dask Arrays\n",
    "\n",
    "The Numpy car...with Dask engine superpowers!"
   ]
  },
  {
   "cell_type": "code",
   "execution_count": null,
   "id": "d35a97cc-0627-4bba-a100-e5266ab36b42",
   "metadata": {},
   "outputs": [],
   "source": [
    "import dask.array as da"
   ]
  },
  {
   "cell_type": "code",
   "execution_count": null,
   "id": "7d7fb64a-ec42-4686-983c-0b0980a50277",
   "metadata": {},
   "outputs": [],
   "source": [
    "array = da.random.random((10_000, 10_000), chunks=(1_000, 1_000))"
   ]
  },
  {
   "cell_type": "code",
   "execution_count": null,
   "id": "1deab8f7-9cfd-41d5-8bed-432d4ee8f198",
   "metadata": {},
   "outputs": [],
   "source": [
    "array"
   ]
  },
  {
   "cell_type": "code",
   "execution_count": null,
   "id": "48b88ce4-d2b2-4ab0-a881-81a97b8bbfb8",
   "metadata": {},
   "outputs": [],
   "source": [
    "array[:10,:5]"
   ]
  },
  {
   "cell_type": "code",
   "execution_count": null,
   "id": "482a0ea3-117b-47fc-bfe1-e660913366cc",
   "metadata": {},
   "outputs": [],
   "source": [
    "array[:10,:5].compute()"
   ]
  },
  {
   "cell_type": "code",
   "execution_count": null,
   "id": "a7620d5e-1b68-4566-945a-55dc07e1de95",
   "metadata": {},
   "outputs": [],
   "source": [
    "%%time\n",
    "array.sum(axis=1).compute()"
   ]
  },
  {
   "cell_type": "code",
   "execution_count": null,
   "id": "e9a15882-0956-455f-bd25-2b60608b2995",
   "metadata": {},
   "outputs": [],
   "source": []
  },
  {
   "cell_type": "code",
   "execution_count": null,
   "id": "eea6e80b-a5f2-4892-9229-1a8f5aa19479",
   "metadata": {},
   "outputs": [],
   "source": []
  },
  {
   "cell_type": "code",
   "execution_count": null,
   "id": "d4e10cd2-2a81-44e0-9f91-3c215124a41b",
   "metadata": {},
   "outputs": [],
   "source": []
  },
  {
   "cell_type": "markdown",
   "id": "1e1da253-ff32-413f-ae12-ee0ee8ba9488",
   "metadata": {},
   "source": [
    "## Dask ML\n",
    "\n",
    "The scikit-learn car with.... you guessed it -- Dask rocketfuel!"
   ]
  },
  {
   "cell_type": "code",
   "execution_count": null,
   "id": "6528f426-6238-41ad-9ba3-604c6643630d",
   "metadata": {},
   "outputs": [],
   "source": [
    "from dask_ml.linear_model import LogisticRegression\n",
    "from dask_ml.datasets import make_classification"
   ]
  },
  {
   "cell_type": "code",
   "execution_count": null,
   "id": "5bcf7bc2-c52a-4b0f-88ef-f545622a4e67",
   "metadata": {},
   "outputs": [],
   "source": [
    "X, y = make_classification(n_samples=1_000, chunks=50)"
   ]
  },
  {
   "cell_type": "code",
   "execution_count": null,
   "id": "6f420f7f-be2f-479c-b5c6-bd62cb2779d2",
   "metadata": {},
   "outputs": [],
   "source": [
    "X"
   ]
  },
  {
   "cell_type": "code",
   "execution_count": null,
   "id": "b02bceca-6221-4045-af84-48c76dba6c3d",
   "metadata": {},
   "outputs": [],
   "source": [
    "y"
   ]
  },
  {
   "cell_type": "code",
   "execution_count": null,
   "id": "30efa795-fb0c-49ff-912d-f623dde08e91",
   "metadata": {},
   "outputs": [],
   "source": [
    "lr = LogisticRegression()"
   ]
  },
  {
   "cell_type": "code",
   "execution_count": null,
   "id": "3dcaf40a-a397-4a61-93ee-e7755a6f14eb",
   "metadata": {},
   "outputs": [],
   "source": [
    "%%time\n",
    "lr.fit(X, y)"
   ]
  },
  {
   "cell_type": "code",
   "execution_count": null,
   "id": "5a520ae5-8f5b-4f5f-99c6-11918c95f06b",
   "metadata": {},
   "outputs": [],
   "source": [
    "%%time\n",
    "predictions = lr.predict(X).compute()"
   ]
  },
  {
   "cell_type": "code",
   "execution_count": null,
   "id": "a9a4136a-25bc-44e8-86ab-1bff9ad63bc5",
   "metadata": {},
   "outputs": [],
   "source": [
    "lr.score(X,y).compute()"
   ]
  },
  {
   "cell_type": "code",
   "execution_count": null,
   "id": "a2844306-c2eb-44e8-88b3-bf36dfd7ed81",
   "metadata": {},
   "outputs": [],
   "source": []
  },
  {
   "cell_type": "code",
   "execution_count": null,
   "id": "50bd8cfc-4b0a-45c1-aa5c-c541df109652",
   "metadata": {},
   "outputs": [],
   "source": []
  },
  {
   "cell_type": "code",
   "execution_count": null,
   "id": "7684a097-d068-4173-93e1-84253a3b8e89",
   "metadata": {},
   "outputs": [],
   "source": []
  },
  {
   "cell_type": "markdown",
   "id": "3927c81d-e6da-4cbd-bed7-206eb38d858c",
   "metadata": {},
   "source": [
    "# Digging Deeper\n",
    "\n",
    "Dask's lower-level APIs give you even more flexibility and control over what / how to parallelize your custom Python code.\n",
    "\n",
    "## Parallelize Python Code with `dask.delayed`"
   ]
  },
  {
   "cell_type": "code",
   "execution_count": null,
   "id": "f3e07394-2425-4505-8dd0-6db196966cf7",
   "metadata": {},
   "outputs": [],
   "source": [
    "from time import sleep\n",
    "\n",
    "def inc(x):\n",
    "    \"\"\"Increments x by one\"\"\"\n",
    "    sleep(1)\n",
    "    return x + 1\n",
    "\n",
    "def add(x=0, y=0, z=0):\n",
    "    \"\"\"Adds x and y and z\"\"\"\n",
    "    sleep(1)\n",
    "    return x + y + z"
   ]
  },
  {
   "cell_type": "code",
   "execution_count": null,
   "id": "cf89a100-982b-4fcc-9278-25ec935d9fe2",
   "metadata": {},
   "outputs": [],
   "source": [
    "%%time\n",
    "\n",
    "x = inc(1) # takes 1 second\n",
    "y = inc(2) # takes 1 second\n",
    "z = add(x, y) # takes 1 second"
   ]
  },
  {
   "cell_type": "code",
   "execution_count": null,
   "id": "b1448ca6-ea61-4809-ac0e-e12f8f00fe65",
   "metadata": {},
   "outputs": [],
   "source": [
    "z"
   ]
  },
  {
   "cell_type": "code",
   "execution_count": null,
   "id": "6557c210-b758-4a56-8e34-e3f380ca53c9",
   "metadata": {},
   "outputs": [],
   "source": [
    "from dask import delayed"
   ]
  },
  {
   "cell_type": "code",
   "execution_count": null,
   "id": "2671dd28-cf5e-4935-97d9-32e4358a507c",
   "metadata": {},
   "outputs": [],
   "source": [
    "%%time\n",
    "\n",
    "a = delayed(inc)(1)\n",
    "b = delayed(inc)(2)\n",
    "c = delayed(add)(a, b)"
   ]
  },
  {
   "cell_type": "code",
   "execution_count": null,
   "id": "51d49b54-a638-4425-8a8a-487e79247dbd",
   "metadata": {},
   "outputs": [],
   "source": [
    "c"
   ]
  },
  {
   "cell_type": "code",
   "execution_count": null,
   "id": "14d9dd86-d664-4d62-92e6-6872d4393de5",
   "metadata": {},
   "outputs": [],
   "source": [
    "a.visualize()"
   ]
  },
  {
   "cell_type": "code",
   "execution_count": null,
   "id": "87a2f6a3-a7ef-4f9f-a2a7-f637a6d5a745",
   "metadata": {},
   "outputs": [],
   "source": [
    "b.visualize()"
   ]
  },
  {
   "cell_type": "code",
   "execution_count": null,
   "id": "a5c9bd66-797f-4a2e-b7ab-98e8462477e8",
   "metadata": {},
   "outputs": [],
   "source": [
    "c.visualize()"
   ]
  },
  {
   "cell_type": "code",
   "execution_count": null,
   "id": "1d47f1cf-9546-4c61-9d65-478f31c7086f",
   "metadata": {},
   "outputs": [],
   "source": [
    "%%time\n",
    "c.compute()"
   ]
  },
  {
   "cell_type": "code",
   "execution_count": null,
   "id": "aee78635-af2c-434e-a13f-2e86cc603f61",
   "metadata": {},
   "outputs": [],
   "source": [
    "d = delayed(inc)(3)"
   ]
  },
  {
   "cell_type": "code",
   "execution_count": null,
   "id": "2599ef10-b94e-42bd-9d88-f974ab5e4009",
   "metadata": {},
   "outputs": [],
   "source": [
    "c = delayed(add)(a, b, d)"
   ]
  },
  {
   "cell_type": "code",
   "execution_count": null,
   "id": "75cbafe1-1384-4f25-9c0e-9d984d472ed2",
   "metadata": {},
   "outputs": [],
   "source": [
    "c.visualize()"
   ]
  },
  {
   "cell_type": "code",
   "execution_count": null,
   "id": "0ca048c4-0ebe-42a4-8c8a-4a31acabcf06",
   "metadata": {},
   "outputs": [],
   "source": [
    "%%time\n",
    "c.compute()"
   ]
  },
  {
   "cell_type": "code",
   "execution_count": null,
   "id": "a878f019-fe8b-4fad-ae6e-d18ff5c3299e",
   "metadata": {},
   "outputs": [],
   "source": []
  },
  {
   "cell_type": "markdown",
   "id": "f355e988-6c93-42de-9eb6-15cece1b1078",
   "metadata": {},
   "source": [
    "Task graphs can get...complicated:"
   ]
  },
  {
   "cell_type": "markdown",
   "id": "3db216dd-00ee-4123-b24a-49d4e09a6959",
   "metadata": {},
   "source": [
    "<img src=\"https://raw.githubusercontent.com/coiled/pydata-global-dask/master/images/grid_search_schedule.gif\"\n",
    "     width=\"95%\"\n",
    "     alt=\"Grid search schedule\\\" />"
   ]
  },
  {
   "cell_type": "code",
   "execution_count": null,
   "id": "b5132355-2c00-4c5d-b246-b6432dba955a",
   "metadata": {},
   "outputs": [],
   "source": []
  },
  {
   "cell_type": "code",
   "execution_count": null,
   "id": "cbcf33c7-7851-4a0c-9f3a-49713ffdb6a4",
   "metadata": {},
   "outputs": [],
   "source": []
  },
  {
   "cell_type": "code",
   "execution_count": null,
   "id": "5de8dd12-a3d8-4388-b49e-d1793dc0f1d9",
   "metadata": {},
   "outputs": [],
   "source": []
  },
  {
   "cell_type": "markdown",
   "id": "3c286a65-2155-4435-af87-642e9f76d675",
   "metadata": {
    "tags": []
   },
   "source": [
    "## Dask Cluster on Coiled"
   ]
  },
  {
   "cell_type": "markdown",
   "id": "ec5209f8-005d-40ad-89a2-cb22ea1f0277",
   "metadata": {},
   "source": [
    "To launch your own Coiled clusters:\n",
    "1. Create an account at [cloud.coiled.io](cloud.coiled.io)\n",
    "2. Open a terminal\n",
    "3. Create a new conda env and activate it\n",
    "4. Run `conda install -c conda-forge coiled-runtime`\n",
    "5. Run `coiled login`\n",
    "\n",
    "You’ll then be asked to login to the Coiled web interface. Normally you'd navigate to https://cloud.coiled.io/profile where you can create and manage API tokens. This requires setting up some cloud credentials. To bypass that for this tutorial, we'll use a test account that's already set up.\n",
    "\n",
    "```\n",
    "Please login to https://cloud.coiled.io/profile to get your token\n",
    "Token:\n",
    "```\n",
    "\n",
    "Copy the following token (removing the \"LONDON\" in the middle) and press Enter:\n",
    "\n",
    "`aea6c94125e64d8f839e9c7719537ca4-c48ca9434221c4d39b65b9266901c3956065a6cd`\n",
    "    \n",
    "This token will be destroyed immediately after this tutorial. To continue using Coiled after the tutorial, connect your Coiled account to your AWS/GCP cloud by following the steps [here](https://docs.coiled.io/user_guide/backends.html)."
   ]
  },
  {
   "cell_type": "code",
   "execution_count": null,
   "id": "f5d28920-e3ff-49aa-9bb6-2c320a7d2205",
   "metadata": {},
   "outputs": [],
   "source": [
    "import coiled"
   ]
  },
  {
   "cell_type": "code",
   "execution_count": null,
   "id": "134ba830-b094-4d4b-9c79-19223c71f965",
   "metadata": {},
   "outputs": [],
   "source": [
    "# coiled.create_software_environment(\n",
    "#     account=\"pydata-london\",\n",
    "#     conda=\"../binder/environment.yml\",\n",
    "#     name=\"dask-tutorial\",\n",
    "# )"
   ]
  },
  {
   "cell_type": "code",
   "execution_count": null,
   "id": "4d9d6e12-b076-49a5-90e5-a7caaa1a6ca7",
   "metadata": {},
   "outputs": [],
   "source": [
    "# create a unique identifier for your cluster\n",
    "import random\n",
    "your_name = \"INSERT-YOUR-NAME-HERE\" \n",
    "unique_id = your_name + str(random.randint(100,200))\n",
    "\n",
    "# spin up the cluster\n",
    "cluster = coiled.Cluster(\n",
    "    name=f\"dask-tutorial-{unique_id}\", \n",
    "    n_workers=20, \n",
    "    worker_memory='16Gib',\n",
    "    software=\"pydata-london/dask-tutorial\",\n",
    "    scheduler_options={'idle_timeout':'2 hours'}, # default is 20min\n",
    "    shutdown_on_close=False,\n",
    ")"
   ]
  },
  {
   "cell_type": "code",
   "execution_count": null,
   "id": "5dc54907-9e6a-4e13-8eb8-af394f79df9f",
   "metadata": {},
   "outputs": [],
   "source": [
    "from distributed import Client\n",
    "\n",
    "client = Client(cluster)"
   ]
  },
  {
   "cell_type": "code",
   "execution_count": null,
   "id": "d0aed554-702f-4e0d-badb-463d42052e11",
   "metadata": {},
   "outputs": [],
   "source": [
    "import dask.dataframe as dd"
   ]
  },
  {
   "cell_type": "code",
   "execution_count": null,
   "id": "77439fee-1424-4710-b111-123f9edda7a6",
   "metadata": {},
   "outputs": [],
   "source": [
    "df = dd.read_csv(\n",
    "    \"s3://nyc-tlc/csv_backup/yellow_tripdata_2019-*.csv\",\n",
    "    parse_dates=[\"tpep_pickup_datetime\", \"tpep_dropoff_datetime\"],\n",
    "    dtype={\n",
    "        \"payment_type\": \"UInt8\",\n",
    "        \"VendorID\": \"UInt8\",\n",
    "        \"passenger_count\": \"UInt8\",\n",
    "        \"RatecodeID\": \"UInt8\",\n",
    "        \"store_and_fwd_flag\": \"category\",\n",
    "        \"PULocationID\": \"UInt16\",\n",
    "        \"DOLocationID\": \"UInt16\",\n",
    "    },\n",
    "    storage_options={\"anon\": True},\n",
    "    blocksize=\"16 MiB\",\n",
    ")"
   ]
  },
  {
   "cell_type": "code",
   "execution_count": null,
   "id": "493edf5a-981c-420d-b6ce-1be0b59228d9",
   "metadata": {},
   "outputs": [],
   "source": [
    "df"
   ]
  },
  {
   "cell_type": "code",
   "execution_count": null,
   "id": "dec5248f-d2ce-4700-8746-e99f4dfac1a1",
   "metadata": {},
   "outputs": [
    {
     "name": "stderr",
     "output_type": "stream",
     "text": [
      "2022-06-17 12:07:02,550 - distributed.deploy.cluster - WARNING - Failed to sync cluster info multiple times - perhaps there's a connection issue? Error:\n",
      "Traceback (most recent call last):\n",
      "  File \"/Users/rpelgrim/mambaforge/envs/dask-tutorial/lib/python3.9/site-packages/distributed/comm/tcp.py\", line 439, in connect\n",
      "    stream = await self.client.connect(\n",
      "  File \"/Users/rpelgrim/mambaforge/envs/dask-tutorial/lib/python3.9/site-packages/tornado/tcpclient.py\", line 275, in connect\n",
      "    af, addr, stream = await connector.start(connect_timeout=timeout)\n",
      "asyncio.exceptions.CancelledError\n",
      "\n",
      "During handling of the above exception, another exception occurred:\n",
      "\n",
      "Traceback (most recent call last):\n",
      "  File \"/Users/rpelgrim/mambaforge/envs/dask-tutorial/lib/python3.9/asyncio/tasks.py\", line 492, in wait_for\n",
      "    fut.result()\n",
      "asyncio.exceptions.CancelledError\n",
      "\n",
      "The above exception was the direct cause of the following exception:\n",
      "\n",
      "Traceback (most recent call last):\n",
      "  File \"/Users/rpelgrim/mambaforge/envs/dask-tutorial/lib/python3.9/site-packages/distributed/comm/core.py\", line 289, in connect\n",
      "    comm = await asyncio.wait_for(\n",
      "  File \"/Users/rpelgrim/mambaforge/envs/dask-tutorial/lib/python3.9/asyncio/tasks.py\", line 494, in wait_for\n",
      "    raise exceptions.TimeoutError() from exc\n",
      "asyncio.exceptions.TimeoutError\n",
      "\n",
      "The above exception was the direct cause of the following exception:\n",
      "\n",
      "Traceback (most recent call last):\n",
      "  File \"/Users/rpelgrim/mambaforge/envs/dask-tutorial/lib/python3.9/site-packages/distributed/deploy/cluster.py\", line 132, in _sync_cluster_info\n",
      "    await self.scheduler_comm.set_metadata(\n",
      "  File \"/Users/rpelgrim/mambaforge/envs/dask-tutorial/lib/python3.9/site-packages/distributed/core.py\", line 901, in send_recv_from_rpc\n",
      "    comm = await self.live_comm()\n",
      "  File \"/Users/rpelgrim/mambaforge/envs/dask-tutorial/lib/python3.9/site-packages/distributed/core.py\", line 858, in live_comm\n",
      "    comm = await connect(\n",
      "  File \"/Users/rpelgrim/mambaforge/envs/dask-tutorial/lib/python3.9/site-packages/distributed/comm/core.py\", line 315, in connect\n",
      "    raise OSError(\n",
      "OSError: Timed out trying to connect to tls://54.175.166.63:8786 after 30 s\n"
     ]
    }
   ],
   "source": [
    "%%time\n",
    "df.groupby(\"passenger_count\").tip_amount.mean().compute()"
   ]
  },
  {
   "cell_type": "code",
   "execution_count": null,
   "id": "b44a3967-a5a2-4562-a3ce-a34e91ff2f32",
   "metadata": {},
   "outputs": [],
   "source": []
  }
 ],
 "metadata": {
  "kernelspec": {
   "display_name": "dask-tutorial",
   "language": "python",
   "name": "dask-tutorial"
  },
  "language_info": {
   "codemirror_mode": {
    "name": "ipython",
    "version": 3
   },
   "file_extension": ".py",
   "mimetype": "text/x-python",
   "name": "python",
   "nbconvert_exporter": "python",
   "pygments_lexer": "ipython3",
   "version": "3.9.7"
  }
 },
 "nbformat": 4,
 "nbformat_minor": 5
}
